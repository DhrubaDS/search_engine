{
 "cells": [
  {
   "cell_type": "code",
   "execution_count": 1,
   "id": "508975df-1296-42ae-a23b-42603165dfce",
   "metadata": {},
   "outputs": [],
   "source": [
    "import numpy as np\n",
    "import pandas as pd"
   ]
  },
  {
   "cell_type": "markdown",
   "id": "a783d54f-8c76-4d7d-8f58-354f7ca71981",
   "metadata": {},
   "source": [
    "## reccomendation system"
   ]
  },
  {
   "cell_type": "code",
   "execution_count": null,
   "id": "65ea5fe6-0704-45e4-a5e4-7489f2443369",
   "metadata": {},
   "outputs": [],
   "source": []
  }
 ],
 "metadata": {
  "kernelspec": {
   "display_name": "Python 3 (ipykernel)",
   "language": "python",
   "name": "python3"
  },
  "language_info": {
   "codemirror_mode": {
    "name": "ipython",
    "version": 3
   },
   "file_extension": ".py",
   "mimetype": "text/x-python",
   "name": "python",
   "nbconvert_exporter": "python",
   "pygments_lexer": "ipython3",
   "version": "3.10.7"
  }
 },
 "nbformat": 4,
 "nbformat_minor": 5
}
