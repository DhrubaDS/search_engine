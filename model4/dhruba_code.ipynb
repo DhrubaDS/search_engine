{
 "cells": [
  {
   "cell_type": "code",
   "execution_count": 5,
   "id": "92f788ec-4ecf-452a-9e3c-0b5a1b090151",
   "metadata": {},
   "outputs": [
    {
     "name": "stderr",
     "output_type": "stream",
     "text": [
      "C:\\Users\\mbulka\\Documents\\projects\\my_projects\\python_venv\\venv\\lib\\site-packages\\fuzzywuzzy\\fuzz.py:11: UserWarning: Using slow pure-python SequenceMatcher. Install python-Levenshtein to remove this warning\n",
      "  warnings.warn('Using slow pure-python SequenceMatcher. Install python-Levenshtein to remove this warning')\n"
     ]
    }
   ],
   "source": [
    "import pandas as pd\n",
    "from fuzzywuzzy import fuzz"
   ]
  },
  {
   "cell_type": "code",
   "execution_count": 26,
   "id": "a8b37bf8-5a3a-4b64-9e14-e97b46e632a3",
   "metadata": {},
   "outputs": [
    {
     "name": "stdout",
     "output_type": "stream",
     "text": [
      "Index with maximum similarity score: 0\n"
     ]
    },
    {
     "data": {
      "text/plain": [
       "'This defines 1'"
      ]
     },
     "execution_count": 26,
     "metadata": {},
     "output_type": "execute_result"
    }
   ],
   "source": [
    "# Example dataframe\n",
    "df = pd.DataFrame({'String_to_Match': ['example string 1', 'example string 2', 'example string 3', 'example string 4'],\n",
    "                   'Definition': ['This defines 1', 'This define 2', 'This defines 3', 'This defines 4']\n",
    "                  })\n",
    "\n",
    "# String to compare\n",
    "string1 = \"examplestring1\"\n",
    "\n",
    "# Function to calculate similarity ratio\n",
    "def similarity_ratio(string1, string2):\n",
    "    return fuzz.ratio(string1, string2)\n",
    "\n",
    "df['Similarity'] = df['String_to_Match'].apply(lambda x: similarity_ratio(string1, x))\n",
    "\n",
    "max_index = df['Similarity'].idxmax()\n",
    "\n",
    "# Print the result\n",
    "print(\"Index with maximum similarity score:\", max_index)\n",
    "\n",
    "df['Definition'][max_index]"
   ]
  },
  {
   "cell_type": "code",
   "execution_count": 29,
   "id": "6efe5839-5fbc-4a89-a3da-4f5ad06cf030",
   "metadata": {},
   "outputs": [
    {
     "data": {
      "text/plain": [
       "56"
      ]
     },
     "execution_count": 29,
     "metadata": {},
     "output_type": "execute_result"
    }
   ],
   "source": [
    "string1 = 'example string 1'\n",
    "string2 = 'string example 1'\n",
    "\n",
    "fuzz.ratio(string1, string2)"
   ]
  },
  {
   "cell_type": "code",
   "execution_count": 34,
   "id": "b8c05281-a57c-43db-bcb2-ae25d618aab4",
   "metadata": {},
   "outputs": [
    {
     "data": {
      "text/plain": [
       "67"
      ]
     },
     "execution_count": 34,
     "metadata": {},
     "output_type": "execute_result"
    }
   ],
   "source": [
    "fuzz.ratio('can', 'cannon')"
   ]
  },
  {
   "cell_type": "code",
   "execution_count": 35,
   "id": "e4157a4a-5bf7-44a8-83ba-eca22e8f07c6",
   "metadata": {},
   "outputs": [
    {
     "data": {
      "text/plain": [
       "21"
      ]
     },
     "execution_count": 35,
     "metadata": {},
     "output_type": "execute_result"
    }
   ],
   "source": [
    "fuzz.ratio('job title', 'profession')"
   ]
  },
  {
   "cell_type": "code",
   "execution_count": null,
   "id": "5977f14f-a2be-4861-aa2e-0e6595a52ad4",
   "metadata": {},
   "outputs": [],
   "source": []
  }
 ],
 "metadata": {
  "kernelspec": {
   "display_name": "Python 3 (ipykernel)",
   "language": "python",
   "name": "python3"
  },
  "language_info": {
   "codemirror_mode": {
    "name": "ipython",
    "version": 3
   },
   "file_extension": ".py",
   "mimetype": "text/x-python",
   "name": "python",
   "nbconvert_exporter": "python",
   "pygments_lexer": "ipython3",
   "version": "3.10.7"
  }
 },
 "nbformat": 4,
 "nbformat_minor": 5
}
